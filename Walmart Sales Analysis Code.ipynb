{
 "cells": [
  {
   "cell_type": "code",
   "execution_count": 11,
   "id": "37ec8052-278a-4f12-b87e-7e07119f5d30",
   "metadata": {},
   "outputs": [
    {
     "data": {
      "text/html": [
       "<div>\n",
       "<style scoped>\n",
       "    .dataframe tbody tr th:only-of-type {\n",
       "        vertical-align: middle;\n",
       "    }\n",
       "\n",
       "    .dataframe tbody tr th {\n",
       "        vertical-align: top;\n",
       "    }\n",
       "\n",
       "    .dataframe thead th {\n",
       "        text-align: right;\n",
       "    }\n",
       "</style>\n",
       "<table border=\"1\" class=\"dataframe\">\n",
       "  <thead>\n",
       "    <tr style=\"text-align: right;\">\n",
       "      <th></th>\n",
       "      <th>Store</th>\n",
       "      <th>Date</th>\n",
       "      <th>Weekly_Sales</th>\n",
       "      <th>Holiday_Flag</th>\n",
       "      <th>Temperature</th>\n",
       "      <th>Fuel_Price</th>\n",
       "      <th>CPI</th>\n",
       "      <th>Unemployment</th>\n",
       "    </tr>\n",
       "  </thead>\n",
       "  <tbody>\n",
       "    <tr>\n",
       "      <th>0</th>\n",
       "      <td>1</td>\n",
       "      <td>05-02-2010</td>\n",
       "      <td>1643690.90</td>\n",
       "      <td>0</td>\n",
       "      <td>42.31</td>\n",
       "      <td>2.572</td>\n",
       "      <td>211.096358</td>\n",
       "      <td>8.106</td>\n",
       "    </tr>\n",
       "    <tr>\n",
       "      <th>1</th>\n",
       "      <td>1</td>\n",
       "      <td>12-02-2010</td>\n",
       "      <td>1641957.44</td>\n",
       "      <td>1</td>\n",
       "      <td>38.51</td>\n",
       "      <td>2.548</td>\n",
       "      <td>211.242170</td>\n",
       "      <td>8.106</td>\n",
       "    </tr>\n",
       "    <tr>\n",
       "      <th>2</th>\n",
       "      <td>1</td>\n",
       "      <td>19-02-2010</td>\n",
       "      <td>1611968.17</td>\n",
       "      <td>0</td>\n",
       "      <td>39.93</td>\n",
       "      <td>2.514</td>\n",
       "      <td>211.289143</td>\n",
       "      <td>8.106</td>\n",
       "    </tr>\n",
       "    <tr>\n",
       "      <th>3</th>\n",
       "      <td>1</td>\n",
       "      <td>26-02-2010</td>\n",
       "      <td>1409727.59</td>\n",
       "      <td>0</td>\n",
       "      <td>46.63</td>\n",
       "      <td>2.561</td>\n",
       "      <td>211.319643</td>\n",
       "      <td>8.106</td>\n",
       "    </tr>\n",
       "    <tr>\n",
       "      <th>4</th>\n",
       "      <td>1</td>\n",
       "      <td>05-03-2010</td>\n",
       "      <td>1554806.68</td>\n",
       "      <td>0</td>\n",
       "      <td>46.50</td>\n",
       "      <td>2.625</td>\n",
       "      <td>211.350143</td>\n",
       "      <td>8.106</td>\n",
       "    </tr>\n",
       "    <tr>\n",
       "      <th>...</th>\n",
       "      <td>...</td>\n",
       "      <td>...</td>\n",
       "      <td>...</td>\n",
       "      <td>...</td>\n",
       "      <td>...</td>\n",
       "      <td>...</td>\n",
       "      <td>...</td>\n",
       "      <td>...</td>\n",
       "    </tr>\n",
       "    <tr>\n",
       "      <th>6430</th>\n",
       "      <td>45</td>\n",
       "      <td>28-09-2012</td>\n",
       "      <td>713173.95</td>\n",
       "      <td>0</td>\n",
       "      <td>64.88</td>\n",
       "      <td>3.997</td>\n",
       "      <td>192.013558</td>\n",
       "      <td>8.684</td>\n",
       "    </tr>\n",
       "    <tr>\n",
       "      <th>6431</th>\n",
       "      <td>45</td>\n",
       "      <td>05-10-2012</td>\n",
       "      <td>733455.07</td>\n",
       "      <td>0</td>\n",
       "      <td>64.89</td>\n",
       "      <td>3.985</td>\n",
       "      <td>192.170412</td>\n",
       "      <td>8.667</td>\n",
       "    </tr>\n",
       "    <tr>\n",
       "      <th>6432</th>\n",
       "      <td>45</td>\n",
       "      <td>12-10-2012</td>\n",
       "      <td>734464.36</td>\n",
       "      <td>0</td>\n",
       "      <td>54.47</td>\n",
       "      <td>4.000</td>\n",
       "      <td>192.327265</td>\n",
       "      <td>8.667</td>\n",
       "    </tr>\n",
       "    <tr>\n",
       "      <th>6433</th>\n",
       "      <td>45</td>\n",
       "      <td>19-10-2012</td>\n",
       "      <td>718125.53</td>\n",
       "      <td>0</td>\n",
       "      <td>56.47</td>\n",
       "      <td>3.969</td>\n",
       "      <td>192.330854</td>\n",
       "      <td>8.667</td>\n",
       "    </tr>\n",
       "    <tr>\n",
       "      <th>6434</th>\n",
       "      <td>45</td>\n",
       "      <td>26-10-2012</td>\n",
       "      <td>760281.43</td>\n",
       "      <td>0</td>\n",
       "      <td>58.85</td>\n",
       "      <td>3.882</td>\n",
       "      <td>192.308899</td>\n",
       "      <td>8.667</td>\n",
       "    </tr>\n",
       "  </tbody>\n",
       "</table>\n",
       "<p>6435 rows × 8 columns</p>\n",
       "</div>"
      ],
      "text/plain": [
       "      Store        Date  Weekly_Sales  Holiday_Flag  Temperature  Fuel_Price  \\\n",
       "0         1  05-02-2010    1643690.90             0        42.31       2.572   \n",
       "1         1  12-02-2010    1641957.44             1        38.51       2.548   \n",
       "2         1  19-02-2010    1611968.17             0        39.93       2.514   \n",
       "3         1  26-02-2010    1409727.59             0        46.63       2.561   \n",
       "4         1  05-03-2010    1554806.68             0        46.50       2.625   \n",
       "...     ...         ...           ...           ...          ...         ...   \n",
       "6430     45  28-09-2012     713173.95             0        64.88       3.997   \n",
       "6431     45  05-10-2012     733455.07             0        64.89       3.985   \n",
       "6432     45  12-10-2012     734464.36             0        54.47       4.000   \n",
       "6433     45  19-10-2012     718125.53             0        56.47       3.969   \n",
       "6434     45  26-10-2012     760281.43             0        58.85       3.882   \n",
       "\n",
       "             CPI  Unemployment  \n",
       "0     211.096358         8.106  \n",
       "1     211.242170         8.106  \n",
       "2     211.289143         8.106  \n",
       "3     211.319643         8.106  \n",
       "4     211.350143         8.106  \n",
       "...          ...           ...  \n",
       "6430  192.013558         8.684  \n",
       "6431  192.170412         8.667  \n",
       "6432  192.327265         8.667  \n",
       "6433  192.330854         8.667  \n",
       "6434  192.308899         8.667  \n",
       "\n",
       "[6435 rows x 8 columns]"
      ]
     },
     "execution_count": 11,
     "metadata": {},
     "output_type": "execute_result"
    }
   ],
   "source": [
    "# Step 1: Read Dataset\n",
    "import pandas as pd  # Import pandas library for data manipulation and analysis\n",
    "import matplotlib.pyplot as plt  # Import matplotlib for creating static visualizations\n",
    "import seaborn as sns  # Import seaborn for enhanced statistical visualizations\n",
    "df = pd.read_csv(\"C:\\\\Users\\\\Pandu\\\\Downloads\\\\Walmart.csv\")  # Load Walmart dataset from local file path\n",
    "df  # Display the dataframe contents"
   ]
  },
  {
   "cell_type": "code",
   "execution_count": 12,
   "id": "eeec2d3e-d0a6-43d2-9307-41bd0b1d0a44",
   "metadata": {},
   "outputs": [
    {
     "name": "stdout",
     "output_type": "stream",
     "text": [
      "<class 'pandas.core.frame.DataFrame'>\n"
     ]
    }
   ],
   "source": [
    "# Check the type of the DataFrame object 'df' to confirm it's a pandas DataFrame\n",
    "print(type(df))"
   ]
  },
  {
   "cell_type": "code",
   "execution_count": 17,
   "id": "0c86c51c-5854-4550-be36-14eb27d312a8",
   "metadata": {},
   "outputs": [
    {
     "data": {
      "text/html": [
       "<div>\n",
       "<style scoped>\n",
       "    .dataframe tbody tr th:only-of-type {\n",
       "        vertical-align: middle;\n",
       "    }\n",
       "\n",
       "    .dataframe tbody tr th {\n",
       "        vertical-align: top;\n",
       "    }\n",
       "\n",
       "    .dataframe thead th {\n",
       "        text-align: right;\n",
       "    }\n",
       "</style>\n",
       "<table border=\"1\" class=\"dataframe\">\n",
       "  <thead>\n",
       "    <tr style=\"text-align: right;\">\n",
       "      <th></th>\n",
       "      <th>Store</th>\n",
       "      <th>Date</th>\n",
       "      <th>Weekly_Sales</th>\n",
       "      <th>Holiday_Flag</th>\n",
       "      <th>Temperature</th>\n",
       "      <th>Fuel_Price</th>\n",
       "      <th>CPI</th>\n",
       "      <th>Unemployment</th>\n",
       "    </tr>\n",
       "  </thead>\n",
       "  <tbody>\n",
       "    <tr>\n",
       "      <th>0</th>\n",
       "      <td>1</td>\n",
       "      <td>05-02-2010</td>\n",
       "      <td>1643690.90</td>\n",
       "      <td>0</td>\n",
       "      <td>42.31</td>\n",
       "      <td>2.572</td>\n",
       "      <td>211.096358</td>\n",
       "      <td>8.106</td>\n",
       "    </tr>\n",
       "    <tr>\n",
       "      <th>1</th>\n",
       "      <td>1</td>\n",
       "      <td>12-02-2010</td>\n",
       "      <td>1641957.44</td>\n",
       "      <td>1</td>\n",
       "      <td>38.51</td>\n",
       "      <td>2.548</td>\n",
       "      <td>211.242170</td>\n",
       "      <td>8.106</td>\n",
       "    </tr>\n",
       "    <tr>\n",
       "      <th>2</th>\n",
       "      <td>1</td>\n",
       "      <td>19-02-2010</td>\n",
       "      <td>1611968.17</td>\n",
       "      <td>0</td>\n",
       "      <td>39.93</td>\n",
       "      <td>2.514</td>\n",
       "      <td>211.289143</td>\n",
       "      <td>8.106</td>\n",
       "    </tr>\n",
       "    <tr>\n",
       "      <th>3</th>\n",
       "      <td>1</td>\n",
       "      <td>26-02-2010</td>\n",
       "      <td>1409727.59</td>\n",
       "      <td>0</td>\n",
       "      <td>46.63</td>\n",
       "      <td>2.561</td>\n",
       "      <td>211.319643</td>\n",
       "      <td>8.106</td>\n",
       "    </tr>\n",
       "    <tr>\n",
       "      <th>4</th>\n",
       "      <td>1</td>\n",
       "      <td>05-03-2010</td>\n",
       "      <td>1554806.68</td>\n",
       "      <td>0</td>\n",
       "      <td>46.50</td>\n",
       "      <td>2.625</td>\n",
       "      <td>211.350143</td>\n",
       "      <td>8.106</td>\n",
       "    </tr>\n",
       "  </tbody>\n",
       "</table>\n",
       "</div>"
      ],
      "text/plain": [
       "   Store        Date  Weekly_Sales  Holiday_Flag  Temperature  Fuel_Price  \\\n",
       "0      1  05-02-2010    1643690.90             0        42.31       2.572   \n",
       "1      1  12-02-2010    1641957.44             1        38.51       2.548   \n",
       "2      1  19-02-2010    1611968.17             0        39.93       2.514   \n",
       "3      1  26-02-2010    1409727.59             0        46.63       2.561   \n",
       "4      1  05-03-2010    1554806.68             0        46.50       2.625   \n",
       "\n",
       "          CPI  Unemployment  \n",
       "0  211.096358         8.106  \n",
       "1  211.242170         8.106  \n",
       "2  211.289143         8.106  \n",
       "3  211.319643         8.106  \n",
       "4  211.350143         8.106  "
      ]
     },
     "execution_count": 17,
     "metadata": {},
     "output_type": "execute_result"
    }
   ],
   "source": [
    "# Display the first 5 rows of the dataframe to preview its structure and content\n",
    "df.head()"
   ]
  },
  {
   "cell_type": "code",
   "execution_count": 18,
   "id": "91c96f37-0503-4569-9c75-171f46371a68",
   "metadata": {},
   "outputs": [
    {
     "data": {
      "text/html": [
       "<div>\n",
       "<style scoped>\n",
       "    .dataframe tbody tr th:only-of-type {\n",
       "        vertical-align: middle;\n",
       "    }\n",
       "\n",
       "    .dataframe tbody tr th {\n",
       "        vertical-align: top;\n",
       "    }\n",
       "\n",
       "    .dataframe thead th {\n",
       "        text-align: right;\n",
       "    }\n",
       "</style>\n",
       "<table border=\"1\" class=\"dataframe\">\n",
       "  <thead>\n",
       "    <tr style=\"text-align: right;\">\n",
       "      <th></th>\n",
       "      <th>Store</th>\n",
       "      <th>Date</th>\n",
       "      <th>Weekly_Sales</th>\n",
       "      <th>Holiday_Flag</th>\n",
       "      <th>Temperature</th>\n",
       "      <th>Fuel_Price</th>\n",
       "      <th>CPI</th>\n",
       "      <th>Unemployment</th>\n",
       "    </tr>\n",
       "  </thead>\n",
       "  <tbody>\n",
       "    <tr>\n",
       "      <th>6430</th>\n",
       "      <td>45</td>\n",
       "      <td>28-09-2012</td>\n",
       "      <td>713173.95</td>\n",
       "      <td>0</td>\n",
       "      <td>64.88</td>\n",
       "      <td>3.997</td>\n",
       "      <td>192.013558</td>\n",
       "      <td>8.684</td>\n",
       "    </tr>\n",
       "    <tr>\n",
       "      <th>6431</th>\n",
       "      <td>45</td>\n",
       "      <td>05-10-2012</td>\n",
       "      <td>733455.07</td>\n",
       "      <td>0</td>\n",
       "      <td>64.89</td>\n",
       "      <td>3.985</td>\n",
       "      <td>192.170412</td>\n",
       "      <td>8.667</td>\n",
       "    </tr>\n",
       "    <tr>\n",
       "      <th>6432</th>\n",
       "      <td>45</td>\n",
       "      <td>12-10-2012</td>\n",
       "      <td>734464.36</td>\n",
       "      <td>0</td>\n",
       "      <td>54.47</td>\n",
       "      <td>4.000</td>\n",
       "      <td>192.327265</td>\n",
       "      <td>8.667</td>\n",
       "    </tr>\n",
       "    <tr>\n",
       "      <th>6433</th>\n",
       "      <td>45</td>\n",
       "      <td>19-10-2012</td>\n",
       "      <td>718125.53</td>\n",
       "      <td>0</td>\n",
       "      <td>56.47</td>\n",
       "      <td>3.969</td>\n",
       "      <td>192.330854</td>\n",
       "      <td>8.667</td>\n",
       "    </tr>\n",
       "    <tr>\n",
       "      <th>6434</th>\n",
       "      <td>45</td>\n",
       "      <td>26-10-2012</td>\n",
       "      <td>760281.43</td>\n",
       "      <td>0</td>\n",
       "      <td>58.85</td>\n",
       "      <td>3.882</td>\n",
       "      <td>192.308899</td>\n",
       "      <td>8.667</td>\n",
       "    </tr>\n",
       "  </tbody>\n",
       "</table>\n",
       "</div>"
      ],
      "text/plain": [
       "      Store        Date  Weekly_Sales  Holiday_Flag  Temperature  Fuel_Price  \\\n",
       "6430     45  28-09-2012     713173.95             0        64.88       3.997   \n",
       "6431     45  05-10-2012     733455.07             0        64.89       3.985   \n",
       "6432     45  12-10-2012     734464.36             0        54.47       4.000   \n",
       "6433     45  19-10-2012     718125.53             0        56.47       3.969   \n",
       "6434     45  26-10-2012     760281.43             0        58.85       3.882   \n",
       "\n",
       "             CPI  Unemployment  \n",
       "6430  192.013558         8.684  \n",
       "6431  192.170412         8.667  \n",
       "6432  192.327265         8.667  \n",
       "6433  192.330854         8.667  \n",
       "6434  192.308899         8.667  "
      ]
     },
     "execution_count": 18,
     "metadata": {},
     "output_type": "execute_result"
    }
   ],
   "source": [
    "# Display the last 5 rows of the dataframe\n",
    "# This is useful for quickly inspecting the end of the dataset\n",
    "df.tail()"
   ]
  },
  {
   "cell_type": "code",
   "execution_count": 19,
   "id": "4d206c27-f1a7-4740-9ec8-810e3c23353c",
   "metadata": {},
   "outputs": [
    {
     "data": {
      "text/plain": [
       "(6435, 8)"
      ]
     },
     "execution_count": 19,
     "metadata": {},
     "output_type": "execute_result"
    }
   ],
   "source": [
    "# Get the dimensions of the dataframe (number of rows, number of columns)\n",
    "df.shape"
   ]
  },
  {
   "cell_type": "code",
   "execution_count": 20,
   "id": "10be3a7d-4dfd-4852-9ff9-09cb82473975",
   "metadata": {},
   "outputs": [
    {
     "data": {
      "text/plain": [
       "Index(['Store', 'Date', 'Weekly_Sales', 'Holiday_Flag', 'Temperature',\n",
       "       'Fuel_Price', 'CPI', 'Unemployment'],\n",
       "      dtype='object')"
      ]
     },
     "execution_count": 20,
     "metadata": {},
     "output_type": "execute_result"
    }
   ],
   "source": [
    "# Get the column names of the DataFrame 'df'\n",
    "df.columns"
   ]
  },
  {
   "cell_type": "code",
   "execution_count": 21,
   "id": "b62b4d64-e4ad-465d-8e65-b6d2bd81cbb6",
   "metadata": {},
   "outputs": [
    {
     "name": "stdout",
     "output_type": "stream",
     "text": [
      "<class 'pandas.core.frame.DataFrame'>\n",
      "RangeIndex: 6435 entries, 0 to 6434\n",
      "Data columns (total 8 columns):\n",
      " #   Column        Non-Null Count  Dtype  \n",
      "---  ------        --------------  -----  \n",
      " 0   Store         6435 non-null   int64  \n",
      " 1   Date          6435 non-null   object \n",
      " 2   Weekly_Sales  6435 non-null   float64\n",
      " 3   Holiday_Flag  6435 non-null   int64  \n",
      " 4   Temperature   6435 non-null   float64\n",
      " 5   Fuel_Price    6435 non-null   float64\n",
      " 6   CPI           6435 non-null   float64\n",
      " 7   Unemployment  6435 non-null   float64\n",
      "dtypes: float64(5), int64(2), object(1)\n",
      "memory usage: 402.3+ KB\n"
     ]
    }
   ],
   "source": [
    "# Display concise summary of the DataFrame including:\n",
    "# - Total number of entries\n",
    "# - Column names and their data types\n",
    "# - Non-null value counts\n",
    "# - Memory usage\n",
    "df.info()"
   ]
  },
  {
   "cell_type": "code",
   "execution_count": 22,
   "id": "77c4d5fd-35ea-4df0-9d05-83995a61de26",
   "metadata": {},
   "outputs": [
    {
     "data": {
      "text/html": [
       "<div>\n",
       "<style scoped>\n",
       "    .dataframe tbody tr th:only-of-type {\n",
       "        vertical-align: middle;\n",
       "    }\n",
       "\n",
       "    .dataframe tbody tr th {\n",
       "        vertical-align: top;\n",
       "    }\n",
       "\n",
       "    .dataframe thead th {\n",
       "        text-align: right;\n",
       "    }\n",
       "</style>\n",
       "<table border=\"1\" class=\"dataframe\">\n",
       "  <thead>\n",
       "    <tr style=\"text-align: right;\">\n",
       "      <th></th>\n",
       "      <th>Store</th>\n",
       "      <th>Weekly_Sales</th>\n",
       "      <th>Holiday_Flag</th>\n",
       "      <th>Temperature</th>\n",
       "      <th>Fuel_Price</th>\n",
       "      <th>CPI</th>\n",
       "      <th>Unemployment</th>\n",
       "    </tr>\n",
       "  </thead>\n",
       "  <tbody>\n",
       "    <tr>\n",
       "      <th>count</th>\n",
       "      <td>6435.000000</td>\n",
       "      <td>6.435000e+03</td>\n",
       "      <td>6435.000000</td>\n",
       "      <td>6435.000000</td>\n",
       "      <td>6435.000000</td>\n",
       "      <td>6435.000000</td>\n",
       "      <td>6435.000000</td>\n",
       "    </tr>\n",
       "    <tr>\n",
       "      <th>mean</th>\n",
       "      <td>23.000000</td>\n",
       "      <td>1.046965e+06</td>\n",
       "      <td>0.069930</td>\n",
       "      <td>60.663782</td>\n",
       "      <td>3.358607</td>\n",
       "      <td>171.578394</td>\n",
       "      <td>7.999151</td>\n",
       "    </tr>\n",
       "    <tr>\n",
       "      <th>std</th>\n",
       "      <td>12.988182</td>\n",
       "      <td>5.643666e+05</td>\n",
       "      <td>0.255049</td>\n",
       "      <td>18.444933</td>\n",
       "      <td>0.459020</td>\n",
       "      <td>39.356712</td>\n",
       "      <td>1.875885</td>\n",
       "    </tr>\n",
       "    <tr>\n",
       "      <th>min</th>\n",
       "      <td>1.000000</td>\n",
       "      <td>2.099862e+05</td>\n",
       "      <td>0.000000</td>\n",
       "      <td>-2.060000</td>\n",
       "      <td>2.472000</td>\n",
       "      <td>126.064000</td>\n",
       "      <td>3.879000</td>\n",
       "    </tr>\n",
       "    <tr>\n",
       "      <th>25%</th>\n",
       "      <td>12.000000</td>\n",
       "      <td>5.533501e+05</td>\n",
       "      <td>0.000000</td>\n",
       "      <td>47.460000</td>\n",
       "      <td>2.933000</td>\n",
       "      <td>131.735000</td>\n",
       "      <td>6.891000</td>\n",
       "    </tr>\n",
       "    <tr>\n",
       "      <th>50%</th>\n",
       "      <td>23.000000</td>\n",
       "      <td>9.607460e+05</td>\n",
       "      <td>0.000000</td>\n",
       "      <td>62.670000</td>\n",
       "      <td>3.445000</td>\n",
       "      <td>182.616521</td>\n",
       "      <td>7.874000</td>\n",
       "    </tr>\n",
       "    <tr>\n",
       "      <th>75%</th>\n",
       "      <td>34.000000</td>\n",
       "      <td>1.420159e+06</td>\n",
       "      <td>0.000000</td>\n",
       "      <td>74.940000</td>\n",
       "      <td>3.735000</td>\n",
       "      <td>212.743293</td>\n",
       "      <td>8.622000</td>\n",
       "    </tr>\n",
       "    <tr>\n",
       "      <th>max</th>\n",
       "      <td>45.000000</td>\n",
       "      <td>3.818686e+06</td>\n",
       "      <td>1.000000</td>\n",
       "      <td>100.140000</td>\n",
       "      <td>4.468000</td>\n",
       "      <td>227.232807</td>\n",
       "      <td>14.313000</td>\n",
       "    </tr>\n",
       "  </tbody>\n",
       "</table>\n",
       "</div>"
      ],
      "text/plain": [
       "             Store  Weekly_Sales  Holiday_Flag  Temperature   Fuel_Price  \\\n",
       "count  6435.000000  6.435000e+03   6435.000000  6435.000000  6435.000000   \n",
       "mean     23.000000  1.046965e+06      0.069930    60.663782     3.358607   \n",
       "std      12.988182  5.643666e+05      0.255049    18.444933     0.459020   \n",
       "min       1.000000  2.099862e+05      0.000000    -2.060000     2.472000   \n",
       "25%      12.000000  5.533501e+05      0.000000    47.460000     2.933000   \n",
       "50%      23.000000  9.607460e+05      0.000000    62.670000     3.445000   \n",
       "75%      34.000000  1.420159e+06      0.000000    74.940000     3.735000   \n",
       "max      45.000000  3.818686e+06      1.000000   100.140000     4.468000   \n",
       "\n",
       "               CPI  Unemployment  \n",
       "count  6435.000000   6435.000000  \n",
       "mean    171.578394      7.999151  \n",
       "std      39.356712      1.875885  \n",
       "min     126.064000      3.879000  \n",
       "25%     131.735000      6.891000  \n",
       "50%     182.616521      7.874000  \n",
       "75%     212.743293      8.622000  \n",
       "max     227.232807     14.313000  "
      ]
     },
     "execution_count": 22,
     "metadata": {},
     "output_type": "execute_result"
    }
   ],
   "source": [
    "# Generate descriptive statistics for the DataFrame\n",
    "# This includes count, mean, std, min, 25%, 50%, 75%, max for numeric columns\n",
    "df.describe()"
   ]
  },
  {
   "cell_type": "code",
   "execution_count": 23,
   "id": "192167c8-e5f7-49bb-8485-11181fc166d4",
   "metadata": {},
   "outputs": [
    {
     "data": {
      "text/plain": [
       "Store             int64\n",
       "Date             object\n",
       "Weekly_Sales    float64\n",
       "Holiday_Flag      int64\n",
       "Temperature     float64\n",
       "Fuel_Price      float64\n",
       "CPI             float64\n",
       "Unemployment    float64\n",
       "dtype: object"
      ]
     },
     "execution_count": 23,
     "metadata": {},
     "output_type": "execute_result"
    }
   ],
   "source": [
    "# Check the data types of each column in the DataFrame 'df'\n",
    "# This helps understand what kind of data is stored in each column (e.g., integers, floats, strings)\n",
    "df.dtypes"
   ]
  },
  {
   "cell_type": "code",
   "execution_count": 24,
   "id": "b569b5a4-55d0-43b1-a6a1-c0368591a55b",
   "metadata": {},
   "outputs": [
    {
     "data": {
      "text/plain": [
       "Store           0\n",
       "Date            0\n",
       "Weekly_Sales    0\n",
       "Holiday_Flag    0\n",
       "Temperature     0\n",
       "Fuel_Price      0\n",
       "CPI             0\n",
       "Unemployment    0\n",
       "dtype: int64"
      ]
     },
     "execution_count": 24,
     "metadata": {},
     "output_type": "execute_result"
    }
   ],
   "source": [
    "# Check for missing values in the dataframe\n",
    "# This returns the count of null values for each column\n",
    "df.isnull().sum()"
   ]
  },
  {
   "cell_type": "code",
   "execution_count": 25,
   "id": "01c6a372-830e-4146-b937-02c08edc119f",
   "metadata": {},
   "outputs": [
    {
     "data": {
      "text/plain": [
       "Store             45\n",
       "Date             143\n",
       "Weekly_Sales    6435\n",
       "Holiday_Flag       2\n",
       "Temperature     3528\n",
       "Fuel_Price       892\n",
       "CPI             2145\n",
       "Unemployment     349\n",
       "dtype: int64"
      ]
     },
     "execution_count": 25,
     "metadata": {},
     "output_type": "execute_result"
    }
   ],
   "source": [
    "# Count the number of unique values in each column of the dataframe\n",
    "df.nunique()"
   ]
  },
  {
   "cell_type": "code",
   "execution_count": 26,
   "id": "347df020-dd5a-46bf-8323-e1400da7587f",
   "metadata": {},
   "outputs": [
    {
     "data": {
      "text/plain": [
       "array([ 1,  2,  3,  4,  5,  6,  7,  8,  9, 10, 11, 12, 13, 14, 15, 16, 17,\n",
       "       18, 19, 20, 21, 22, 23, 24, 25, 26, 27, 28, 29, 30, 31, 32, 33, 34,\n",
       "       35, 36, 37, 38, 39, 40, 41, 42, 43, 44, 45])"
      ]
     },
     "execution_count": 26,
     "metadata": {},
     "output_type": "execute_result"
    }
   ],
   "source": [
    "# Get all unique store IDs from the 'Store' column in the dataframe\n",
    "df[\"Store\"].unique()"
   ]
  },
  {
   "cell_type": "code",
   "execution_count": 27,
   "id": "695779dd-37a1-4163-95ad-d26b52170b92",
   "metadata": {},
   "outputs": [
    {
     "data": {
      "text/plain": [
       "Holiday_Flag\n",
       "0    5985\n",
       "1     450\n",
       "Name: count, dtype: int64"
      ]
     },
     "execution_count": 27,
     "metadata": {},
     "output_type": "execute_result"
    }
   ],
   "source": [
    "# Count the occurrences of each unique value in the Holiday_Flag column\n",
    "# This helps understand the distribution of holidays in the dataset\n",
    "df[\"Holiday_Flag\"].value_counts()"
   ]
  },
  {
   "cell_type": "code",
   "execution_count": 28,
   "id": "a6634c12-76a0-41e9-b6a8-c0dabb561f28",
   "metadata": {},
   "outputs": [
    {
     "data": {
      "text/html": [
       "<div>\n",
       "<style scoped>\n",
       "    .dataframe tbody tr th:only-of-type {\n",
       "        vertical-align: middle;\n",
       "    }\n",
       "\n",
       "    .dataframe tbody tr th {\n",
       "        vertical-align: top;\n",
       "    }\n",
       "\n",
       "    .dataframe thead th {\n",
       "        text-align: right;\n",
       "    }\n",
       "</style>\n",
       "<table border=\"1\" class=\"dataframe\">\n",
       "  <thead>\n",
       "    <tr style=\"text-align: right;\">\n",
       "      <th></th>\n",
       "      <th>Store</th>\n",
       "      <th>Date</th>\n",
       "      <th>Weekly_Sales</th>\n",
       "      <th>Holiday_Flag</th>\n",
       "      <th>Temperature</th>\n",
       "      <th>Fuel_Price</th>\n",
       "      <th>CPI</th>\n",
       "      <th>Unemployment</th>\n",
       "    </tr>\n",
       "  </thead>\n",
       "  <tbody>\n",
       "    <tr>\n",
       "      <th>4119</th>\n",
       "      <td>29</td>\n",
       "      <td>20-04-2012</td>\n",
       "      <td>525200.59</td>\n",
       "      <td>0</td>\n",
       "      <td>58.81</td>\n",
       "      <td>4.046</td>\n",
       "      <td>137.923067</td>\n",
       "      <td>9.140</td>\n",
       "    </tr>\n",
       "    <tr>\n",
       "      <th>1175</th>\n",
       "      <td>9</td>\n",
       "      <td>10-09-2010</td>\n",
       "      <td>484835.20</td>\n",
       "      <td>1</td>\n",
       "      <td>77.70</td>\n",
       "      <td>2.565</td>\n",
       "      <td>215.035932</td>\n",
       "      <td>6.442</td>\n",
       "    </tr>\n",
       "    <tr>\n",
       "      <th>5231</th>\n",
       "      <td>37</td>\n",
       "      <td>09-09-2011</td>\n",
       "      <td>506273.74</td>\n",
       "      <td>1</td>\n",
       "      <td>77.94</td>\n",
       "      <td>3.546</td>\n",
       "      <td>214.615538</td>\n",
       "      <td>8.177</td>\n",
       "    </tr>\n",
       "    <tr>\n",
       "      <th>2577</th>\n",
       "      <td>19</td>\n",
       "      <td>26-02-2010</td>\n",
       "      <td>1373270.06</td>\n",
       "      <td>0</td>\n",
       "      <td>30.33</td>\n",
       "      <td>2.910</td>\n",
       "      <td>131.686000</td>\n",
       "      <td>8.350</td>\n",
       "    </tr>\n",
       "    <tr>\n",
       "      <th>535</th>\n",
       "      <td>4</td>\n",
       "      <td>17-02-2012</td>\n",
       "      <td>2427640.17</td>\n",
       "      <td>0</td>\n",
       "      <td>34.19</td>\n",
       "      <td>3.493</td>\n",
       "      <td>130.454621</td>\n",
       "      <td>4.607</td>\n",
       "    </tr>\n",
       "  </tbody>\n",
       "</table>\n",
       "</div>"
      ],
      "text/plain": [
       "      Store        Date  Weekly_Sales  Holiday_Flag  Temperature  Fuel_Price  \\\n",
       "4119     29  20-04-2012     525200.59             0        58.81       4.046   \n",
       "1175      9  10-09-2010     484835.20             1        77.70       2.565   \n",
       "5231     37  09-09-2011     506273.74             1        77.94       3.546   \n",
       "2577     19  26-02-2010    1373270.06             0        30.33       2.910   \n",
       "535       4  17-02-2012    2427640.17             0        34.19       3.493   \n",
       "\n",
       "             CPI  Unemployment  \n",
       "4119  137.923067         9.140  \n",
       "1175  215.035932         6.442  \n",
       "5231  214.615538         8.177  \n",
       "2577  131.686000         8.350  \n",
       "535   130.454621         4.607  "
      ]
     },
     "execution_count": 28,
     "metadata": {},
     "output_type": "execute_result"
    }
   ],
   "source": [
    "# Display 5 random samples from the dataframe\n",
    "# This is useful for quickly inspecting the data without viewing the entire dataset\n",
    "df.sample(5)"
   ]
  },
  {
   "cell_type": "code",
   "execution_count": 29,
   "id": "ea6d0592-30d2-45db-9ad2-ecab932788d3",
   "metadata": {},
   "outputs": [
    {
     "data": {
      "text/plain": [
       "np.float64(1046964.8775617715)"
      ]
     },
     "execution_count": 29,
     "metadata": {},
     "output_type": "execute_result"
    }
   ],
   "source": [
    "# Calculate the mean (average) of all values in the Weekly_Sales column\n",
    "df[\"Weekly_Sales\"].mean()"
   ]
  },
  {
   "cell_type": "code",
   "execution_count": 30,
   "id": "bd83d9a0-8257-43ec-ab75-e2aca85cfd6b",
   "metadata": {},
   "outputs": [
    {
     "data": {
      "text/plain": [
       "np.float64(3818686.45)"
      ]
     },
     "execution_count": 30,
     "metadata": {},
     "output_type": "execute_result"
    }
   ],
   "source": [
    "# Find the maximum value in the Weekly_Sales column of the dataframe\n",
    "df[\"Weekly_Sales\"].max()"
   ]
  },
  {
   "cell_type": "code",
   "execution_count": 31,
   "id": "07e336b3-28e1-4b63-9ab6-0314fb8b2cc1",
   "metadata": {},
   "outputs": [
    {
     "data": {
      "text/plain": [
       "np.float64(209986.25)"
      ]
     },
     "execution_count": 31,
     "metadata": {},
     "output_type": "execute_result"
    }
   ],
   "source": [
    "# Find the minimum value in the Weekly_Sales column of the dataframe\n",
    "df[\"Weekly_Sales\"].min()"
   ]
  },
  {
   "cell_type": "code",
   "execution_count": 37,
   "id": "856d9c8d-a64d-4180-b387-140dd75cf64e",
   "metadata": {},
   "outputs": [
    {
     "name": "stdout",
     "output_type": "stream",
     "text": [
      "\n",
      "Duplicate rows: 0\n"
     ]
    }
   ],
   "source": [
    "import pandas as pd\n",
    "\n",
    "# Convert 'Date' column to datetime format with the correct format specification\n",
    "df['Date'] = pd.to_datetime(df['Date'], format='%Y-%m-%d')  # Specify day-month-year format\n",
    "\n",
    "# Check for duplicates and drop them\n",
    "print(f\"\\nDuplicate rows: {df.duplicated().sum()}\")  # Print the number of duplicate rows found\n",
    "df.drop_duplicates(inplace=True)  # Remove duplicate rows and modify the dataframe in place\n",
    "\n",
    "# Check for missing values again\n",
    "missing = df.isnull().sum()  # Count missing values in each column\n",
    "if missing.any():  # If there are any missing values\n",
    "    # Fill missing numerical values with median\n",
    "    num_cols = ['Weekly_Sales', 'Temperature', 'Fuel_Price', 'CPI', 'Unemployment']  # List of numerical columns\n",
    "    for col in num_cols:  # Iterate through each numerical column\n",
    "        if df[col].isnull().sum() > 0:  # If the column has missing values\n",
    "            df[col].fillna(df[col].median(), inplace=True)  # Replace missing values with the column's median"
   ]
  },
  {
   "cell_type": "code",
   "execution_count": 38,
   "id": "7f730e9b-daa3-4cb5-896b-80ddffa81c8f",
   "metadata": {},
   "outputs": [],
   "source": [
    "## Data Cleaning\n",
    "# 1. Convert 'Date' to datetime\n",
    "# This transforms the Date column from string format to datetime objects for proper time-based operations\n",
    "df['Date'] = pd.to_datetime(df['Date'])\n",
    "\n",
    "# 2. Fill missing numerical columns with median\n",
    "# Define columns that should be treated as numerical values\n",
    "num_cols = ['Weekly_Sales', 'Temperature', 'Fuel_Price', 'CPI', 'Unemployment']\n",
    "# Loop through each numerical column\n",
    "for col in num_cols:\n",
    "    # Check if the column has any missing values\n",
    "    if df[col].isnull().sum() > 0:\n",
    "        # Replace missing values with the median of that column to maintain data distribution\n",
    "        df[col].fillna(df[col].median(), inplace=True)\n",
    "\n",
    "# 3. Drop duplicates\n",
    "# Remove any duplicate rows from the dataframe to prevent bias in analysis\n",
    "df.drop_duplicates(inplace=True)\n"
   ]
  },
  {
   "cell_type": "code",
   "execution_count": 40,
   "id": "caf5a95d-eeff-4e3d-b694-97dbd35a4abd",
   "metadata": {},
   "outputs": [
    {
     "name": "stdout",
     "output_type": "stream",
     "text": [
      "<class 'pandas.core.frame.DataFrame'>\n",
      "RangeIndex: 6435 entries, 0 to 6434\n",
      "Data columns (total 8 columns):\n",
      " #   Column        Non-Null Count  Dtype         \n",
      "---  ------        --------------  -----         \n",
      " 0   Store         6435 non-null   int64         \n",
      " 1   Date          6435 non-null   datetime64[ns]\n",
      " 2   Weekly_Sales  6435 non-null   float64       \n",
      " 3   Holiday_Flag  6435 non-null   int64         \n",
      " 4   Temperature   6435 non-null   float64       \n",
      " 5   Fuel_Price    6435 non-null   float64       \n",
      " 6   CPI           6435 non-null   float64       \n",
      " 7   Unemployment  6435 non-null   float64       \n",
      "dtypes: datetime64[ns](1), float64(5), int64(2)\n",
      "memory usage: 402.3 KB\n",
      "None\n",
      "Store           0\n",
      "Date            0\n",
      "Weekly_Sales    0\n",
      "Holiday_Flag    0\n",
      "Temperature     0\n",
      "Fuel_Price      0\n",
      "CPI             0\n",
      "Unemployment    0\n",
      "dtype: int64\n",
      "(6435, 8)\n"
     ]
    }
   ],
   "source": [
    "print(df.info())  # To verify Date column type\n",
    "print(df.isnull().sum())  # To check if missing values were filled\n",
    "print(df.shape)  # To see if duplicates were removed"
   ]
  },
  {
   "cell_type": "code",
   "execution_count": 39,
   "id": "53b79da4-1b67-47c5-a5d3-502f6d84a92e",
   "metadata": {},
   "outputs": [
    {
     "name": "stdout",
     "output_type": "stream",
     "text": [
      "    Store       Date  Weekly_Sales  Holiday_Flag  Temperature  Fuel_Price  \\\n",
      "1       1 2010-02-12    1641957.44             1        38.51       2.548   \n",
      "31      1 2010-09-10    1507460.69             1        78.69       2.565   \n",
      "42      1 2010-11-26    1955624.11             1        64.52       2.735   \n",
      "47      1 2010-12-31    1367320.01             1        48.43       2.943   \n",
      "53      1 2011-02-11    1649614.93             1        36.39       3.022   \n",
      "\n",
      "           CPI  Unemployment  \n",
      "1   211.242170         8.106  \n",
      "31  211.495190         7.787  \n",
      "42  211.748433         7.838  \n",
      "47  211.404932         7.838  \n",
      "53  212.936705         7.742  \n"
     ]
    }
   ],
   "source": [
    "# Filtering Data\n",
    "# 1. Filter data for holidays only\n",
    "# Create a subset of the dataframe containing only rows where Holiday_Flag equals 1\n",
    "# This isolates sales data that occurred during holidays for further analysis\n",
    "holiday_sales = df[df['Holiday_Flag'] == 1]\n",
    "print(holiday_sales.head())  # Display the first 5 rows of the holiday sales data"
   ]
  },
  {
   "cell_type": "code",
   "execution_count": 41,
   "id": "ee792d66-dcea-40e9-9e02-c6593db3caf3",
   "metadata": {},
   "outputs": [
    {
     "name": "stdout",
     "output_type": "stream",
     "text": [
      "   Store       Date  Weekly_Sales  Holiday_Flag  Temperature  Fuel_Price  \\\n",
      "0      1 2010-02-05    1643690.90             0        42.31       2.572   \n",
      "1      1 2010-02-12    1641957.44             1        38.51       2.548   \n",
      "2      1 2010-02-19    1611968.17             0        39.93       2.514   \n",
      "3      1 2010-02-26    1409727.59             0        46.63       2.561   \n",
      "4      1 2010-03-05    1554806.68             0        46.50       2.625   \n",
      "\n",
      "          CPI  Unemployment  \n",
      "0  211.096358         8.106  \n",
      "1  211.242170         8.106  \n",
      "2  211.289143         8.106  \n",
      "3  211.319643         8.106  \n",
      "4  211.350143         8.106  \n"
     ]
    }
   ],
   "source": [
    "# 2. Filter stores with sales above $1 million\n",
    "# Create a new DataFrame containing only rows where Weekly_Sales exceed $1,000,000\n",
    "high_sales = df[df['Weekly_Sales'] > 1_000_000]\n",
    "# Display the first 5 rows of the filtered DataFrame to inspect high-performing stores\n",
    "print(high_sales.head())"
   ]
  },
  {
   "cell_type": "code",
   "execution_count": 42,
   "id": "7c068d90-0074-4d2a-a9d8-af8a9ea69e23",
   "metadata": {},
   "outputs": [
    {
     "name": "stdout",
     "output_type": "stream",
     "text": [
      "Store\n",
      "1     1.555264e+06\n",
      "2     1.925751e+06\n",
      "3     4.027044e+05\n",
      "4     2.094713e+06\n",
      "5     3.180118e+05\n",
      "6     1.564728e+06\n",
      "7     5.706173e+05\n",
      "8     9.087495e+05\n",
      "9     5.439806e+05\n",
      "10    1.899425e+06\n",
      "11    1.356383e+06\n",
      "12    1.009002e+06\n",
      "13    2.003620e+06\n",
      "14    2.020978e+06\n",
      "15    6.233125e+05\n",
      "16    5.192477e+05\n",
      "17    8.935814e+05\n",
      "18    1.084718e+06\n",
      "19    1.444999e+06\n",
      "20    2.107677e+06\n",
      "21    7.560691e+05\n",
      "22    1.028501e+06\n",
      "23    1.389864e+06\n",
      "24    1.356755e+06\n",
      "25    7.067215e+05\n",
      "26    1.002912e+06\n",
      "27    1.775216e+06\n",
      "28    1.323522e+06\n",
      "29    5.394514e+05\n",
      "30    4.385796e+05\n",
      "31    1.395901e+06\n",
      "32    1.166568e+06\n",
      "33    2.598617e+05\n",
      "34    9.667816e+05\n",
      "35    9.197250e+05\n",
      "36    3.735120e+05\n",
      "37    5.189003e+05\n",
      "38    3.857317e+05\n",
      "39    1.450668e+06\n",
      "40    9.641280e+05\n",
      "41    1.268125e+06\n",
      "42    5.564039e+05\n",
      "43    6.333247e+05\n",
      "44    3.027489e+05\n",
      "45    7.859814e+05\n",
      "Name: Weekly_Sales, dtype: float64\n"
     ]
    }
   ],
   "source": [
    "# Grouping\n",
    "#1. Average weekly sales per store\n",
    "# Group data by 'Store' column and calculate the mean of 'Weekly_Sales' for each store\n",
    "# This gives us the average weekly sales performance for each individual store\n",
    "avg_sales_per_store = df.groupby('Store')['Weekly_Sales'].mean()\n",
    "# Display the results showing each store and its corresponding average weekly sales\n",
    "print(avg_sales_per_store)"
   ]
  },
  {
   "cell_type": "code",
   "execution_count": 67,
   "id": "6069c03d-4ce3-4171-8b4d-3829cb651a71",
   "metadata": {},
   "outputs": [
    {
     "name": "stdout",
     "output_type": "stream",
     "text": [
      "Holiday_Flag\n",
      "0    61.448124\n",
      "1    50.232044\n",
      "Name: Temperature, dtype: float64\n"
     ]
    }
   ],
   "source": [
    "# 2. Average temperature by holiday flag\n",
    "# This line groups the data by 'Holiday_Flag' and calculates the average temperature for each group.\n",
    "# It helps compare average temperatures on holidays (1) vs non-holidays (0).\n",
    "\n",
    "avg_temp_by_holiday = df.groupby('Holiday_Flag')['Temperature'].mean()\n",
    "print(avg_temp_by_holiday)"
   ]
  },
  {
   "cell_type": "code",
   "execution_count": 68,
   "id": "5d2088ef-94be-49d0-9c97-164320294d26",
   "metadata": {},
   "outputs": [
    {
     "name": "stdout",
     "output_type": "stream",
     "text": [
      "      Store       Date  Weekly_Sales  Holiday_Flag  Temperature  Fuel_Price  \\\n",
      "1905     14 2010-12-24    3818686.45             0        30.59       3.141   \n",
      "2763     20 2010-12-24    3766687.43             0        25.17       3.141   \n",
      "1333     10 2010-12-24    3749057.69             0        57.06       3.236   \n",
      "527       4 2011-12-23    3676388.98             0        35.92       3.103   \n",
      "1762     13 2010-12-24    3595903.20             0        34.90       2.846   \n",
      "\n",
      "             CPI  Unemployment  \n",
      "1905  182.544590         8.724  \n",
      "2763  204.637673         7.484  \n",
      "1333  126.983581         9.003  \n",
      "527   129.984548         5.143  \n",
      "1762  126.983581         7.795  \n"
     ]
    }
   ],
   "source": [
    "#Sorting\n",
    "# 1. Sort by highest sales\n",
    "# This sorts the dataset in descending order based on 'Weekly_Sales' to find the highest sales.\n",
    "# It helps identify top-performing records with maximum sales. \n",
    "\n",
    "sorted_sales = df.sort_values(by='Weekly_Sales', ascending=False)\n",
    "print(sorted_sales.head())\n"
   ]
  },
  {
   "cell_type": "code",
   "execution_count": 69,
   "id": "e41ed26c-8362-4cc5-83e8-955cc9f9fbf4",
   "metadata": {},
   "outputs": [
    {
     "name": "stdout",
     "output_type": "stream",
     "text": [
      "      Store       Date  Weekly_Sales  Holiday_Flag  Temperature  Fuel_Price  \\\n",
      "910       7 2011-02-04     558027.77             0        -2.06       3.011   \n",
      "3626     26 2011-01-28     817485.14             0         5.54       3.243   \n",
      "2336     17 2011-01-07    1083071.14             0         6.23       2.891   \n",
      "959       7 2012-01-13     593875.46             0         7.46       3.077   \n",
      "5628     40 2011-01-28     775910.43             0         9.51       3.243   \n",
      "\n",
      "             CPI  Unemployment  \n",
      "910   191.762589         8.818  \n",
      "3626  133.105968         7.907  \n",
      "2336  127.191774         6.866  \n",
      "959   196.733052         8.256  \n",
      "5628  133.105968         5.114  \n"
     ]
    }
   ],
   "source": [
    "# 2. Sort by temperature\n",
    "# This sorts the dataset in ascending order based on the 'Temperature' column.\n",
    "# It helps identify records with the lowest temperatures first.\n",
    "sorted_temp = df.sort_values(by='Temperature')\n",
    "print(sorted_temp.head())"
   ]
  },
  {
   "cell_type": "code",
   "execution_count": 70,
   "id": "ff0ccc0b-4b40-4425-a36a-b7ea28292c62",
   "metadata": {},
   "outputs": [
    {
     "name": "stdout",
     "output_type": "stream",
     "text": [
      "{'min': 209986.25, 'max': 3818686.45, 'mean': 1046964.8775617715, 'mode': 209986.25, 'variance': 318509684088.3009}\n"
     ]
    }
   ],
   "source": [
    "# Aggregated stats\n",
    "# This block calculates aggregated statistics like min, max, mean, mode, and variance of 'Weekly_Sales'.\n",
    "# It provides a quick summary of the sales distribution for deeper insights.\n",
    "\n",
    "agg_stats = {\n",
    "    'min': df['Weekly_Sales'].min(),\n",
    "    'max': df['Weekly_Sales'].max(),\n",
    "    'mean': df['Weekly_Sales'].mean(),\n",
    "    'mode': df['Weekly_Sales'].mode()[0],\n",
    "    'variance': df['Weekly_Sales'].var()\n",
    "}\n",
    "print(agg_stats)"
   ]
  },
  {
   "cell_type": "code",
   "execution_count": 71,
   "id": "60872d5d-3025-4819-b017-106ca1692e73",
   "metadata": {},
   "outputs": [
    {
     "data": {
      "image/png": "[encoded data removed]",
      "text/plain": [
       "<Figure size 1000x500 with 1 Axes>"
      ]
     },
     "metadata": {},
     "output_type": "display_data"
    }
   ],
   "source": [
    "# 1. Line plot of weekly sales over time\n",
    "# This line plot shows the total weekly sales aggregated by date to visualize sales trends over time.\n",
    "# It helps identify patterns, spikes, or drops in sales across different periods.\n",
    "plt.figure(figsize=(10,5))\n",
    "df.groupby('Date')['Weekly_Sales'].sum().plot()\n",
    "plt.title(\"Total Weekly Sales Over Time\")\n",
    "plt.xlabel(\"Date\")\n",
    "plt.ylabel(\"Sales\")\n",
    "plt.grid()\n",
    "plt.show()"
   ]
  },
  {
   "cell_type": "code",
   "execution_count": 72,
   "id": "7b3f122c-47f4-4018-8a8a-d1a8e18d197e",
   "metadata": {},
   "outputs": [
    {
     "data": {
      "image/png": "[encoded data removed]",
      "text/plain": [
       "<Figure size 800x500 with 1 Axes>"
      ]
     },
     "metadata": {},
     "output_type": "display_data"
    }
   ],
   "source": [
    "# 2. Histogram of Weekly Sales\n",
    "# This histogram visualizes the frequency distribution of 'Weekly_Sales' values.\n",
    "# It helps understand how sales values are spread and identify common sales ranges or outliers.\n",
    "plt.figure(figsize=(8,5))\n",
    "plt.hist(df['Weekly_Sales'], bins=30, color='skyblue')\n",
    "plt.title(\"Distribution of Weekly Sales\")\n",
    "plt.xlabel(\"Weekly Sales\")\n",
    "plt.ylabel(\"Frequency\")\n",
    "plt.show()"
   ]
  },
  {
   "cell_type": "code",
   "execution_count": 73,
   "id": "82bff715-1481-4ce4-b4bc-d6a9b370d586",
   "metadata": {},
   "outputs": [
    {
     "data": {
      "image/png": "[encoded data removed]",
      "text/plain": [
       "<Figure size 1200x600 with 1 Axes>"
      ]
     },
     "metadata": {},
     "output_type": "display_data"
    }
   ],
   "source": [
    "# 3. Bar plot of average sales per store\n",
    "# This bar plot shows the average weekly sales for each store to compare their performance visually.  \n",
    "# It helps identify which stores are performing better or worse based on average sales.\n",
    "plt.figure(figsize=(12,6))\n",
    "avg_sales_per_store.plot(kind='bar', color='teal')\n",
    "plt.title(\"Average Weekly Sales per Store\")\n",
    "plt.xlabel(\"Store\")\n",
    "plt.ylabel(\"Average Sales\")\n",
    "plt.show()\n"
   ]
  },
  {
   "cell_type": "code",
   "execution_count": 74,
   "id": "c68ba1dc-b089-4668-9357-69aaa23021c7",
   "metadata": {},
   "outputs": [
    {
     "data": {
      "image/png": "[encoded data removed]",
      "text/plain": [
       "<Figure size 800x500 with 1 Axes>"
      ]
     },
     "metadata": {},
     "output_type": "display_data"
    }
   ],
   "source": [
    "# 4. Boxplot of Weekly Sales\n",
    "# This boxplot displays the distribution of 'Weekly_Sales', highlighting the median, quartiles, and outliers.\n",
    "# It helps detect variability and extreme values in weekly sales across all records.\n",
    "plt.figure(figsize=(8,5))\n",
    "sns.boxplot(x=df['Weekly_Sales'])\n",
    "plt.title(\"Boxplot of Weekly Sales\")\n",
    "plt.show()\n"
   ]
  },
  {
   "cell_type": "code",
   "execution_count": 75,
   "id": "a636eb8a-e413-4a0b-a8d3-882e721f87c4",
   "metadata": {},
   "outputs": [
    {
     "data": {
      "image/png": "[encoded data removed]",
      "text/plain": [
       "<Figure size 800x600 with 2 Axes>"
      ]
     },
     "metadata": {},
     "output_type": "display_data"
    }
   ],
   "source": [
    "# 5. Heatmap of correlations\n",
    "# This heatmap visualizes the correlation between numerical features in the dataset using color gradients.  \n",
    "# It helps identify strong positive or negative relationships between variables like sales, temperature, and fuel price.\n",
    "plt.figure(figsize=(8,6))\n",
    "sns.heatmap(df.corr(), annot=True, cmap='coolwarm')\n",
    "plt.title(\"Correlation Matrix\")\n",
    "plt.show()\n"
   ]
  },
  {
   "cell_type": "code",
   "execution_count": 9,
   "id": "d2b690a0-cdca-4e2f-83c5-6e6d60144595",
   "metadata": {},
   "outputs": [],
   "source": [
    "###  Walmart Sales Dataset- Insightful Data Queries\n",
    "import pandas as pd\n",
    "# Load dataset\n",
    "df = pd.read_csv(\"C:\\\\Users\\\\Pandu\\\\Downloads\\\\Walmart.csv\")\n",
    "df['Date'] = pd.to_datetime(df['Date'], format='%d-%m-%Y')"
   ]
  },
  {
   "cell_type": "code",
   "execution_count": 10,
   "id": "03dbff11-3e54-40cf-bdbf-35cd6704d367",
   "metadata": {},
   "outputs": [
    {
     "name": "stdout",
     "output_type": "stream",
     "text": [
      "Store with highest total sales: 20\n"
     ]
    }
   ],
   "source": [
    "#1.Store with the Highest Sales\n",
    "top_store = df.groupby(\"Store\")[\"Weekly_Sales\"].sum().idxmax()\n",
    "print(f\"Store with highest total sales: {top_store}\")"
   ]
  },
  {
   "cell_type": "code",
   "execution_count": 11,
   "id": "ad0567f4-d2cf-49b0-a07b-1c4d9371088d",
   "metadata": {},
   "outputs": [
    {
     "name": "stdout",
     "output_type": "stream",
     "text": [
      "Average Weekly Sales (0 = Non-Holiday, 1 = Holiday):\n",
      " Holiday_Flag\n",
      "0    1.041256e+06\n",
      "1    1.122888e+06\n",
      "Name: Weekly_Sales, dtype: float64\n"
     ]
    }
   ],
   "source": [
    "#2. Average Sales During Holidays vs Non-Holidays\n",
    "holiday_trend = df.groupby(\"Holiday_Flag\")[\"Weekly_Sales\"].mean()\n",
    "print(\"Average Weekly Sales (0 = Non-Holiday, 1 = Holiday):\\n\", holiday_trend)"
   ]
  },
  {
   "cell_type": "code",
   "execution_count": 13,
   "id": "5e722c05-a68a-4bda-a50a-704cd77070a1",
   "metadata": {},
   "outputs": [
    {
     "name": "stdout",
     "output_type": "stream",
     "text": [
      "Store with most variation in weekly sales: 14\n"
     ]
    }
   ],
   "source": [
    "# 3. Store with Most Variation in Sales\n",
    "most_variable_store = df.groupby(\"Store\")[\"Weekly_Sales\"].std().idxmax()\n",
    "print(f\"Store with most variation in weekly sales: {most_variable_store}\")"
   ]
  },
  {
   "cell_type": "code",
   "execution_count": 14,
   "id": "f8f73b9b-eac0-475a-99c1-00b0e260a91a",
   "metadata": {},
   "outputs": [
    {
     "name": "stdout",
     "output_type": "stream",
     "text": [
      "Correlation between Weekly Sales and Fuel Price: 0.009463786314475142\n"
     ]
    }
   ],
   "source": [
    "# 4. Correlation Between Sales and Fuel Price\n",
    "correlation = df[\"Weekly_Sales\"].corr(df[\"Fuel_Price\"])\n",
    "print(\"Correlation between Weekly Sales and Fuel Price:\", correlation)"
   ]
  },
  {
   "cell_type": "code",
   "execution_count": 15,
   "id": "2d4267c1-e643-4b60-a259-8e20999394a3",
   "metadata": {},
   "outputs": [
    {
     "name": "stdout",
     "output_type": "stream",
     "text": [
      "Correlation between Weekly Sales and Unemployment Rate: -0.10617608965795418\n"
     ]
    }
   ],
   "source": [
    "# 5. Correlation Between Sales and Unemployment\n",
    "unemp_corr = df[\"Weekly_Sales\"].corr(df[\"Unemployment\"])\n",
    "print(\"Correlation between Weekly Sales and Unemployment Rate:\", unemp_corr)"
   ]
  },
  {
   "cell_type": "code",
   "execution_count": 16,
   "id": "1ed23e91-23a8-4d5a-bf70-b76452ba4d4f",
   "metadata": {},
   "outputs": [
    {
     "name": "stdout",
     "output_type": "stream",
     "text": [
      "Monthly Sales Trend:\n",
      " Month\n",
      "7     6.500010e+08\n",
      "4     6.468598e+08\n",
      "6     6.226299e+08\n",
      "8     6.130902e+08\n",
      "3     5.927859e+08\n",
      "10    5.847848e+08\n",
      "9     5.787612e+08\n",
      "12    5.768386e+08\n",
      "2     5.687279e+08\n",
      "5     5.571256e+08\n",
      "11    4.130157e+08\n",
      "1     3.325984e+08\n",
      "Name: Weekly_Sales, dtype: float64\n"
     ]
    }
   ],
   "source": [
    "# 6. Sales by Month\n",
    "df['Month'] = df['Date'].dt.month\n",
    "monthly_sales = df.groupby(\"Month\")[\"Weekly_Sales\"].sum().sort_values(ascending=False)\n",
    "print(\"Monthly Sales Trend:\\n\", monthly_sales)"
   ]
  },
  {
   "cell_type": "code",
   "execution_count": 17,
   "id": "6ae9be11-729e-421f-9d65-3ccde2130150",
   "metadata": {},
   "outputs": [
    {
     "name": "stdout",
     "output_type": "stream",
     "text": [
      "Week with highest sales:\n",
      " Store                            14\n",
      "Date            2010-12-24 00:00:00\n",
      "Weekly_Sales             3818686.45\n",
      "Holiday_Flag                      0\n",
      "Temperature                   30.59\n",
      "Fuel_Price                    3.141\n",
      "CPI                       182.54459\n",
      "Unemployment                  8.724\n",
      "Month                            12\n",
      "Name: 1905, dtype: object\n"
     ]
    }
   ],
   "source": [
    "# 7. Week with Highest Sales\n",
    "top_week = df.loc[df[\"Weekly_Sales\"].idxmax()]\n",
    "print(\"Week with highest sales:\\n\", top_week)"
   ]
  },
  {
   "cell_type": "code",
   "execution_count": 19,
   "id": "d084bc61-656b-4a04-9ab4-791673dbd3da",
   "metadata": {},
   "outputs": [
    {
     "name": "stdout",
     "output_type": "stream",
     "text": [
      "CPI range when sales are above average:\n",
      " count    2876.000000\n",
      "mean      170.713959\n",
      "std        38.861716\n",
      "min       126.064000\n",
      "25%       132.473333\n",
      "50%       181.806743\n",
      "75%       211.747174\n",
      "max       226.987364\n",
      "Name: CPI, dtype: float64\n"
     ]
    }
   ],
   "source": [
    "# 8. CPI Range When Sales Are Above Average\n",
    "\n",
    "high_sales_cpi_range = df[df[\"Weekly_Sales\"] > df[\"Weekly_Sales\"].mean()][\"CPI\"].describe()\n",
    "print(\"CPI range when sales are above average:\\n\", high_sales_cpi_range)"
   ]
  },
  {
   "cell_type": "code",
   "execution_count": 20,
   "id": "f4bdcc64-2361-44d1-b897-edf5917fd115",
   "metadata": {},
   "outputs": [
    {
     "name": "stdout",
     "output_type": "stream",
     "text": [
      "Average Sales in Extreme Temperatures: 984875.5742816093\n"
     ]
    }
   ],
   "source": [
    "# 9. Sales in Extreme Temperatures(<32°F or >90°F)\n",
    "extreme_temp_sales = df[(df[\"Temperature\"] < 32) | (df[\"Temperature\"]>90)][\"Weekly_Sales\"].mean()\n",
    "print(\"Average Sales in Extreme Temperatures:\", extreme_temp_sales)"
   ]
  },
  {
   "cell_type": "code",
   "execution_count": null,
   "id": "98abd88c-0db0-4b98-87fc-483bb04c1727",
   "metadata": {},
   "outputs": [],
   "source": []
  }
 ],
 "metadata": {
  "kernelspec": {
   "display_name": "Python 3 (ipykernel)",
   "language": "python",
   "name": "python3"
  },
  "language_info": {
   "codemirror_mode": {
    "name": "ipython",
    "version": 3
   },
   "file_extension": ".py",
   "mimetype": "text/x-python",
   "name": "python",
   "nbconvert_exporter": "python",
   "pygments_lexer": "ipython3",
   "version": "3.12.7"
  }
 },
 "nbformat": 4,
 "nbformat_minor": 5
}
